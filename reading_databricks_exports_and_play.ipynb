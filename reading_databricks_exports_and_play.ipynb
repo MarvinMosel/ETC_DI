import pyodbc 
import pandas as pd
import matplotlib.pyplot as plt
# Some other example server values are
conn = pyodbc.connect('Driver={SQL Server};'
                        'Server=ONAGER;'
                        'Database=ETC_ULS_Sandbox;'
                        'UID=user1;'
                        'PWD=uSer1Pass!;'
                        'Trusted_Connection=yes;')
#
print ("start......")
