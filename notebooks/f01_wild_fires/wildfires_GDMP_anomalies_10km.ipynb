{
 "cells": [
  {
   "cell_type": "code",
   "execution_count": 2,
   "id": "c431f922",
   "metadata": {},
   "outputs": [],
   "source": [
    "import pyodbc \n",
    "import numpy as np\n",
    "import pandas as pd\n",
    "import matplotlib.pyplot as plt\n",
    "import scipy.stats as stats"
   ]
  },
  {
   "cell_type": "markdown",
   "id": "ccc38a33",
   "metadata": {},
   "source": [
    "### 1. Reading input data"
   ]
  },
  {
   "cell_type": "code",
   "execution_count": 4,
   "id": "ac2b1782",
   "metadata": {},
   "outputs": [
    {
     "name": "stdout",
     "output_type": "stream",
     "text": [
      "connect to engine......\n",
      "connection to greenmonkey found\n",
      "Reading wilfdire table from greenmonkey\n",
      "          GridNum10km   01-11-2014   01-11-2015   01-11-2016   01-11-2017  \\\n",
      "0   22821536360562688          0.0          0.0          0.0          0.0   \n",
      "1    9860785350115328          0.0          0.0          0.0          0.0   \n",
      "2   27660980955643904          0.0          0.0          0.0          0.0   \n",
      "3   18883523796533248          0.0          0.0          0.0          0.0   \n",
      "4   14521696744636416          0.0          0.0          0.0          0.0   \n",
      "5    4842545561468928          0.0          0.0          0.0          0.0   \n",
      "6    5207660731301888          0.0          0.0          0.0          0.0   \n",
      "7   14657941697200128          0.0          0.0          0.0          0.0   \n",
      "8    5144713690611712          0.0          0.0          0.0          0.0   \n",
      "9    9958586050412544          0.0          0.0          0.0          0.0   \n",
      "10  13814440185036800          0.0          0.0          0.0          0.0   \n",
      "11  10176495511142400          0.0          0.0          0.0          0.0   \n",
      "12  27731023282307072          0.0          0.0          0.0          0.0   \n",
      "13   5507681376796672          0.0          0.0          0.0          0.0   \n",
      "14   6021290745921536          0.0          0.0          0.0          0.0   \n",
      "15  27977696139018240   97412981.0   80952416.0   95868998.0   85373654.0   \n",
      "16  14185147402289152  762397386.0  686111872.0  621875672.0  746859690.0   \n",
      "17  18965789600120832  588245574.0  556782771.0  590781827.0  562670735.0   \n",
      "18  27603260890152960  290296014.0  293391800.0  302799413.0  295268642.0   \n",
      "19   9731949216137216  757097776.0  776060028.0  744887192.0  798881914.0   \n",
      "20  27154806174908416    1248210.0    1110867.0    1296237.0    1455470.0   \n",
      "21  18917273649545216  526953073.0  473454740.0  486215692.0  485505706.0   \n",
      "22  27375047802880000    3958251.0    4415792.0    4847761.0    4598388.0   \n",
      "23  22803888339943424          0.0          0.0          0.0          0.0   \n",
      "24  23154099973259264  411122003.0  406154510.0  411634416.0  412375095.0   \n",
      "25   9695854310981632          0.0          0.0          0.0          0.0   \n",
      "\n",
      "     01-11-2018   01-11-2019   01-11-2020   01-11-2021   AreaHa  \n",
      "0           0.0          0.0          0.0          0.0  10000.0  \n",
      "1           0.0          0.0          0.0          0.0  10000.0  \n",
      "2           0.0          0.0          0.0          0.0  10000.0  \n",
      "3           0.0          0.0          0.0          0.0   9429.0  \n",
      "4           0.0          0.0          0.0          0.0  10000.0  \n",
      "5           0.0          0.0          0.0          0.0  10000.0  \n",
      "6           0.0          0.0          0.0          0.0  10000.0  \n",
      "7           0.0          0.0          0.0          0.0  10000.0  \n",
      "8           0.0          0.0          0.0          0.0  10000.0  \n",
      "9           0.0          0.0          0.0          0.0  10000.0  \n",
      "10          0.0          0.0          0.0          0.0  10000.0  \n",
      "11          0.0          0.0          0.0          0.0  10000.0  \n",
      "12          0.0          0.0          0.0          0.0  10000.0  \n",
      "13          0.0          0.0          0.0          0.0  10000.0  \n",
      "14          0.0          0.0          0.0          0.0  10000.0  \n",
      "15  103490490.0   98553759.0   84568213.0   84009534.0  10000.0  \n",
      "16  733295311.0  671152000.0  712509430.0  655712295.0  10000.0  \n",
      "17  642573987.0  598301299.0  544119654.0  559013815.0  10000.0  \n",
      "18  347119917.0  342778664.0  325772260.0  293333499.0  10000.0  \n",
      "19  719134175.0  762323388.0  727224963.0  706710740.0  10000.0  \n",
      "20    1261745.0    1454751.0     919561.0         44.0  10000.0  \n",
      "21  576168144.0  533315505.0  465805594.0  472052162.0  10000.0  \n",
      "22    4587423.0    5681272.0    7284014.0    6680162.0  10000.0  \n",
      "23          0.0          0.0          0.0          0.0  10000.0  \n",
      "24  459210057.0  458548966.0  430993918.0  394538976.0  10000.0  \n",
      "25          0.0          0.0          0.0          0.0  10000.0  \n"
     ]
    }
   ],
   "source": [
    "## Reading AGB and transforming the df into a new schema:\n",
    "print (\"connect to engine......\")\n",
    "engine = sa.create_engine('mssql+pyodbc://' + \"GREENMONKEY\" + '/' + \"Climate_Impact\" + '?trusted_connection=yes&driver=ODBC+Driver+13+for+SQL+Server')\n",
    "\n",
    "print (\"connection to greenmonkey found\")\n",
    "print (\"Reading wilfdire table from greenmonkey\")\n",
    "query3=('''\n",
    "        SELECT *  \n",
    "     from   \n",
    "       [Climate_Impact].wild_fire.[F_AGBflux_sum]\n",
    "        ''')  \n",
    "df_F_AGBflux_sum = pd.read_sql(query3, engine)\n",
    "print(df_F_AGBflux_sum.head(26))"
   ]
  },
  {
   "cell_type": "code",
   "execution_count": 5,
   "id": "c705b613",
   "metadata": {},
   "outputs": [
    {
     "name": "stdout",
     "output_type": "stream",
     "text": [
      "          GridNum10km   AreaHa       year         GDMP\n",
      "0   22821536360562688  10000.0 2014-11-01          0.0\n",
      "1    9860785350115328  10000.0 2014-11-01          0.0\n",
      "2   27660980955643904  10000.0 2014-11-01          0.0\n",
      "3   18883523796533248   9429.0 2014-11-01          0.0\n",
      "4   14521696744636416  10000.0 2014-11-01          0.0\n",
      "5    4842545561468928  10000.0 2014-11-01          0.0\n",
      "6    5207660731301888  10000.0 2014-11-01          0.0\n",
      "7   14657941697200128  10000.0 2014-11-01          0.0\n",
      "8    5144713690611712  10000.0 2014-11-01          0.0\n",
      "9    9958586050412544  10000.0 2014-11-01          0.0\n",
      "10  13814440185036800  10000.0 2014-11-01          0.0\n",
      "11  10176495511142400  10000.0 2014-11-01          0.0\n",
      "12  27731023282307072  10000.0 2014-11-01          0.0\n",
      "13   5507681376796672  10000.0 2014-11-01          0.0\n",
      "14   6021290745921536  10000.0 2014-11-01          0.0\n",
      "15  27977696139018240  10000.0 2014-11-01   97412981.0\n",
      "16  14185147402289152  10000.0 2014-11-01  762397386.0\n",
      "17  18965789600120832  10000.0 2014-11-01  588245574.0\n",
      "18  27603260890152960  10000.0 2014-11-01  290296014.0\n",
      "19   9731949216137216  10000.0 2014-11-01  757097776.0\n"
     ]
    }
   ],
   "source": [
    "df_transformed_AGBflux =df_F_AGBflux_sum.melt(id_vars=[\"GridNum10km\",\"AreaHa\"], \n",
    "     var_name=\"year\", \n",
    "        value_name=\"GDMP\")\n",
    "## update date format:\n",
    "df_transformed_AGBflux['year'] = pd.to_datetime(df_transformed_AGBflux['year'], format='%d-%m-%Y')\n",
    "print(df_transformed_AGBflux.head(20))"
   ]
  },
  {
   "cell_type": "code",
   "execution_count": 3,
   "id": "25a95cb1",
   "metadata": {},
   "outputs": [
    {
     "name": "stdout",
     "output_type": "stream",
     "text": [
      "connect to engine......\n",
      "connection to greenmonkey found\n",
      "Reading wilfdire table from greenmonkey\n",
      "    GridNum10km  fire_date  burned_area\n",
      "0  9.714198e+15 2005-01-01          106\n",
      "1  2.308425e+16 2020-02-01          334\n",
      "2  1.840844e+16 2020-07-01          221\n",
      "3  9.694897e+15 2011-10-01          674\n",
      "4  9.695021e+15 2011-10-01            7\n"
     ]
    }
   ],
   "source": [
    "import sqlalchemy as sa\n",
    "from sqlalchemy import create_engine, event\n",
    "from sqlalchemy.engine.url import URL\n",
    "\n",
    "## Reading WILDFIRE data at 10km:\n",
    "print (\"connect to engine......\")\n",
    "engine = sa.create_engine('mssql+pyodbc://' + \"GREENMONKEY\" + '/' + \"Climate_Impact\" + '?trusted_connection=yes&driver=ODBC+Driver+13+for+SQL+Server')\n",
    "\n",
    "print (\"connection to greenmonkey found\")\n",
    "print (\"Reading wilfdire table from greenmonkey\")\n",
    "query=('''\n",
    "SELECT     \n",
    "      [GridNum10km]   \n",
    "      ,[fire_date]\n",
    "      ,sum([burned_area]) as [burned_area]\n",
    "  FROM [Climate_Impact].[wild_fire].[wild_fires_2000_2022_light]\n",
    "      \n",
    "group by \n",
    "    [GridNum10km]\n",
    "    ,[fire_date]\n",
    "''')\n",
    "\n",
    "df_wildfire10km = pd.read_sql(query, engine)\n",
    "print(df_wildfire10km.head())"
   ]
  },
  {
   "cell_type": "markdown",
   "id": "197bffff",
   "metadata": {},
   "source": [
    "### 2. Computing variables"
   ]
  },
  {
   "cell_type": "markdown",
   "id": "a6cc5486",
   "metadata": {},
   "source": [
    "#### 2.1. GDMP anomalies"
   ]
  },
  {
   "cell_type": "code",
   "execution_count": 6,
   "id": "64bac3ca",
   "metadata": {},
   "outputs": [],
   "source": [
    "from  scipy.stats import zscore\n",
    "def z_score(x):\n",
    "   z = np.around(zscore(x),1)\n",
    "   return z\n",
    "\n",
    "#df['Z_SCORE'] = df.groupby('GROUP')['VALUE'].transform(z_score)\n",
    "df_transformed_AGBflux['zscore'] = df_transformed_AGBflux.groupby('GridNum10km')['GDMP'].transform(z_score)"
   ]
  },
  {
   "cell_type": "code",
   "execution_count": 7,
   "id": "4b91ccd8",
   "metadata": {},
   "outputs": [
    {
     "data": {
      "text/html": [
       "<div>\n",
       "<style scoped>\n",
       "    .dataframe tbody tr th:only-of-type {\n",
       "        vertical-align: middle;\n",
       "    }\n",
       "\n",
       "    .dataframe tbody tr th {\n",
       "        vertical-align: top;\n",
       "    }\n",
       "\n",
       "    .dataframe thead th {\n",
       "        text-align: right;\n",
       "    }\n",
       "</style>\n",
       "<table border=\"1\" class=\"dataframe\">\n",
       "  <thead>\n",
       "    <tr style=\"text-align: right;\">\n",
       "      <th></th>\n",
       "      <th>GridNum10km</th>\n",
       "      <th>AreaHa</th>\n",
       "      <th>year</th>\n",
       "      <th>GDMP</th>\n",
       "      <th>zscore</th>\n",
       "    </tr>\n",
       "  </thead>\n",
       "  <tbody>\n",
       "    <tr>\n",
       "      <th>15</th>\n",
       "      <td>27977696139018240</td>\n",
       "      <td>10000.0</td>\n",
       "      <td>2014-11-01</td>\n",
       "      <td>97412981.0</td>\n",
       "      <td>0.8</td>\n",
       "    </tr>\n",
       "    <tr>\n",
       "      <th>16</th>\n",
       "      <td>14185147402289152</td>\n",
       "      <td>10000.0</td>\n",
       "      <td>2014-11-01</td>\n",
       "      <td>762397386.0</td>\n",
       "      <td>1.4</td>\n",
       "    </tr>\n",
       "    <tr>\n",
       "      <th>17</th>\n",
       "      <td>18965789600120832</td>\n",
       "      <td>10000.0</td>\n",
       "      <td>2014-11-01</td>\n",
       "      <td>588245574.0</td>\n",
       "      <td>0.3</td>\n",
       "    </tr>\n",
       "    <tr>\n",
       "      <th>18</th>\n",
       "      <td>27603260890152960</td>\n",
       "      <td>10000.0</td>\n",
       "      <td>2014-11-01</td>\n",
       "      <td>290296014.0</td>\n",
       "      <td>-1.0</td>\n",
       "    </tr>\n",
       "    <tr>\n",
       "      <th>19</th>\n",
       "      <td>9731949216137216</td>\n",
       "      <td>10000.0</td>\n",
       "      <td>2014-11-01</td>\n",
       "      <td>757097776.0</td>\n",
       "      <td>0.3</td>\n",
       "    </tr>\n",
       "  </tbody>\n",
       "</table>\n",
       "</div>"
      ],
      "text/plain": [
       "          GridNum10km   AreaHa       year         GDMP  zscore\n",
       "15  27977696139018240  10000.0 2014-11-01   97412981.0     0.8\n",
       "16  14185147402289152  10000.0 2014-11-01  762397386.0     1.4\n",
       "17  18965789600120832  10000.0 2014-11-01  588245574.0     0.3\n",
       "18  27603260890152960  10000.0 2014-11-01  290296014.0    -1.0\n",
       "19   9731949216137216  10000.0 2014-11-01  757097776.0     0.3"
      ]
     },
     "execution_count": 7,
     "metadata": {},
     "output_type": "execute_result"
    }
   ],
   "source": [
    "GDMP = df_transformed_AGBflux[df_transformed_AGBflux['GDMP']>0]\n",
    "GDMP.head()"
   ]
  },
  {
   "cell_type": "code",
   "execution_count": 8,
   "id": "c354fae8",
   "metadata": {},
   "outputs": [
    {
     "name": "stderr",
     "output_type": "stream",
     "text": [
      "C:\\Program Files\\ArcGIS\\Pro\\bin\\Python\\envs\\arcgispro-py3\\lib\\site-packages\\ipykernel_launcher.py:12: SettingWithCopyWarning: \n",
      "A value is trying to be set on a copy of a slice from a DataFrame.\n",
      "Try using .loc[row_indexer,col_indexer] = value instead\n",
      "\n",
      "See the caveats in the documentation: https://pandas.pydata.org/pandas-docs/stable/user_guide/indexing.html#returning-a-view-versus-a-copy\n",
      "  if sys.path[0] == '':\n"
     ]
    },
    {
     "data": {
      "text/html": [
       "<div>\n",
       "<style scoped>\n",
       "    .dataframe tbody tr th:only-of-type {\n",
       "        vertical-align: middle;\n",
       "    }\n",
       "\n",
       "    .dataframe tbody tr th {\n",
       "        vertical-align: top;\n",
       "    }\n",
       "\n",
       "    .dataframe thead th {\n",
       "        text-align: right;\n",
       "    }\n",
       "</style>\n",
       "<table border=\"1\" class=\"dataframe\">\n",
       "  <thead>\n",
       "    <tr style=\"text-align: right;\">\n",
       "      <th></th>\n",
       "      <th>GridNum10km</th>\n",
       "      <th>AreaHa</th>\n",
       "      <th>year</th>\n",
       "      <th>GDMP</th>\n",
       "      <th>zscore</th>\n",
       "      <th>ANOMALIES</th>\n",
       "    </tr>\n",
       "  </thead>\n",
       "  <tbody>\n",
       "    <tr>\n",
       "      <th>15</th>\n",
       "      <td>27977696139018240</td>\n",
       "      <td>10000.0</td>\n",
       "      <td>2014-11-01</td>\n",
       "      <td>97412981.0</td>\n",
       "      <td>0.8</td>\n",
       "      <td>0</td>\n",
       "    </tr>\n",
       "    <tr>\n",
       "      <th>16</th>\n",
       "      <td>14185147402289152</td>\n",
       "      <td>10000.0</td>\n",
       "      <td>2014-11-01</td>\n",
       "      <td>762397386.0</td>\n",
       "      <td>1.4</td>\n",
       "      <td>+1</td>\n",
       "    </tr>\n",
       "    <tr>\n",
       "      <th>17</th>\n",
       "      <td>18965789600120832</td>\n",
       "      <td>10000.0</td>\n",
       "      <td>2014-11-01</td>\n",
       "      <td>588245574.0</td>\n",
       "      <td>0.3</td>\n",
       "      <td>0</td>\n",
       "    </tr>\n",
       "    <tr>\n",
       "      <th>18</th>\n",
       "      <td>27603260890152960</td>\n",
       "      <td>10000.0</td>\n",
       "      <td>2014-11-01</td>\n",
       "      <td>290296014.0</td>\n",
       "      <td>-1.0</td>\n",
       "      <td>-1</td>\n",
       "    </tr>\n",
       "    <tr>\n",
       "      <th>19</th>\n",
       "      <td>9731949216137216</td>\n",
       "      <td>10000.0</td>\n",
       "      <td>2014-11-01</td>\n",
       "      <td>757097776.0</td>\n",
       "      <td>0.3</td>\n",
       "      <td>0</td>\n",
       "    </tr>\n",
       "  </tbody>\n",
       "</table>\n",
       "</div>"
      ],
      "text/plain": [
       "          GridNum10km   AreaHa       year         GDMP  zscore ANOMALIES\n",
       "15  27977696139018240  10000.0 2014-11-01   97412981.0     0.8         0\n",
       "16  14185147402289152  10000.0 2014-11-01  762397386.0     1.4        +1\n",
       "17  18965789600120832  10000.0 2014-11-01  588245574.0     0.3         0\n",
       "18  27603260890152960  10000.0 2014-11-01  290296014.0    -1.0        -1\n",
       "19   9731949216137216  10000.0 2014-11-01  757097776.0     0.3         0"
      ]
     },
     "execution_count": 8,
     "metadata": {},
     "output_type": "execute_result"
    }
   ],
   "source": [
    "# create a list of our conditions\n",
    "conditions = [\n",
    "    (GDMP['zscore'] <= -1),\n",
    "    (GDMP['zscore'] > -1) & (GDMP['zscore'] <= 1),\n",
    "    (GDMP['zscore'] > 1)\n",
    "    ]\n",
    "     \n",
    "# create a list of the values we want to assign for each condition\n",
    "values = ['-1', '0', '+1']\n",
    "\n",
    "# create a new column and use np.select to assign values to it using our lists as arguments\n",
    "GDMP['ANOMALIES'] = np.select(conditions, values)\n",
    "\n",
    "# display updated DataFrame\n",
    "GDMP.head()"
   ]
  },
  {
   "cell_type": "markdown",
   "id": "18cb0758",
   "metadata": {},
   "source": [
    "##### Export table"
   ]
  },
  {
   "cell_type": "code",
   "execution_count": 9,
   "id": "b50cfa62",
   "metadata": {},
   "outputs": [
    {
     "name": "stdout",
     "output_type": "stream",
     "text": [
      "connect to greenmonkey engine.....GREENMONKEY.\n"
     ]
    }
   ],
   "source": [
    "name_of_table =\"GDMP_Anomalies_10k\"\n",
    "     \n",
    "print (\"connect to greenmonkey engine.....GREENMONKEY.\")  \n",
    "engine = sa.create_engine('mssql+pyodbc://' + \"GREENMONKEY\" + '/' + \"Climate_Impact\" + '?trusted_connection=yes&driver=ODBC+Driver+13+for+SQL+Server')\n",
    "#print (\"send table togreenmonkey MS-SQL:\")\n",
    "GDMP.to_sql(name_of_table, engine, if_exists='replace', index = False, schema=None)\n"
   ]
  },
  {
   "cell_type": "markdown",
   "id": "726135a5",
   "metadata": {},
   "source": [
    "##### QC GDMP anomalies"
   ]
  },
  {
   "cell_type": "code",
   "execution_count": 10,
   "id": "24826e54",
   "metadata": {},
   "outputs": [
    {
     "name": "stdout",
     "output_type": "stream",
     "text": [
      "         GridNum10km   AreaHa       year  GDMP  zscore\n",
      "0  22821536360562688  10000.0 2014-11-01   0.0     NaN\n",
      "1   9860785350115328  10000.0 2014-11-01   0.0     NaN\n",
      "2  27660980955643904  10000.0 2014-11-01   0.0     NaN\n",
      "3  18883523796533248   9429.0 2014-11-01   0.0     NaN\n",
      "4  14521696744636416  10000.0 2014-11-01   0.0     NaN\n"
     ]
    }
   ],
   "source": [
    "print (df_transformed_AGBflux.head())"
   ]
  },
  {
   "cell_type": "code",
   "execution_count": 11,
   "id": "c2cbb519",
   "metadata": {},
   "outputs": [
    {
     "data": {
      "text/html": [
       "<div>\n",
       "<style scoped>\n",
       "    .dataframe tbody tr th:only-of-type {\n",
       "        vertical-align: middle;\n",
       "    }\n",
       "\n",
       "    .dataframe tbody tr th {\n",
       "        vertical-align: top;\n",
       "    }\n",
       "\n",
       "    .dataframe thead th {\n",
       "        text-align: right;\n",
       "    }\n",
       "</style>\n",
       "<table border=\"1\" class=\"dataframe\">\n",
       "  <thead>\n",
       "    <tr style=\"text-align: right;\">\n",
       "      <th></th>\n",
       "      <th>GridNum10km</th>\n",
       "      <th>AreaHa</th>\n",
       "      <th>year</th>\n",
       "      <th>GDMP</th>\n",
       "      <th>zscore</th>\n",
       "    </tr>\n",
       "  </thead>\n",
       "  <tbody>\n",
       "    <tr>\n",
       "      <th>0</th>\n",
       "      <td>22821536360562688</td>\n",
       "      <td>10000.0</td>\n",
       "      <td>2014-11-01</td>\n",
       "      <td>0.0</td>\n",
       "      <td>NaN</td>\n",
       "    </tr>\n",
       "    <tr>\n",
       "      <th>302889</th>\n",
       "      <td>22821536360562688</td>\n",
       "      <td>10000.0</td>\n",
       "      <td>2015-11-01</td>\n",
       "      <td>0.0</td>\n",
       "      <td>NaN</td>\n",
       "    </tr>\n",
       "    <tr>\n",
       "      <th>605778</th>\n",
       "      <td>22821536360562688</td>\n",
       "      <td>10000.0</td>\n",
       "      <td>2016-11-01</td>\n",
       "      <td>0.0</td>\n",
       "      <td>NaN</td>\n",
       "    </tr>\n",
       "    <tr>\n",
       "      <th>908667</th>\n",
       "      <td>22821536360562688</td>\n",
       "      <td>10000.0</td>\n",
       "      <td>2017-11-01</td>\n",
       "      <td>0.0</td>\n",
       "      <td>NaN</td>\n",
       "    </tr>\n",
       "    <tr>\n",
       "      <th>1211556</th>\n",
       "      <td>22821536360562688</td>\n",
       "      <td>10000.0</td>\n",
       "      <td>2018-11-01</td>\n",
       "      <td>0.0</td>\n",
       "      <td>NaN</td>\n",
       "    </tr>\n",
       "    <tr>\n",
       "      <th>1514445</th>\n",
       "      <td>22821536360562688</td>\n",
       "      <td>10000.0</td>\n",
       "      <td>2019-11-01</td>\n",
       "      <td>0.0</td>\n",
       "      <td>NaN</td>\n",
       "    </tr>\n",
       "    <tr>\n",
       "      <th>1817334</th>\n",
       "      <td>22821536360562688</td>\n",
       "      <td>10000.0</td>\n",
       "      <td>2020-11-01</td>\n",
       "      <td>0.0</td>\n",
       "      <td>NaN</td>\n",
       "    </tr>\n",
       "    <tr>\n",
       "      <th>2120223</th>\n",
       "      <td>22821536360562688</td>\n",
       "      <td>10000.0</td>\n",
       "      <td>2021-11-01</td>\n",
       "      <td>0.0</td>\n",
       "      <td>NaN</td>\n",
       "    </tr>\n",
       "  </tbody>\n",
       "</table>\n",
       "</div>"
      ],
      "text/plain": [
       "               GridNum10km   AreaHa       year  GDMP  zscore\n",
       "0        22821536360562688  10000.0 2014-11-01   0.0     NaN\n",
       "302889   22821536360562688  10000.0 2015-11-01   0.0     NaN\n",
       "605778   22821536360562688  10000.0 2016-11-01   0.0     NaN\n",
       "908667   22821536360562688  10000.0 2017-11-01   0.0     NaN\n",
       "1211556  22821536360562688  10000.0 2018-11-01   0.0     NaN\n",
       "1514445  22821536360562688  10000.0 2019-11-01   0.0     NaN\n",
       "1817334  22821536360562688  10000.0 2020-11-01   0.0     NaN\n",
       "2120223  22821536360562688  10000.0 2021-11-01   0.0     NaN"
      ]
     },
     "execution_count": 11,
     "metadata": {},
     "output_type": "execute_result"
    }
   ],
   "source": [
    "df_transformed_AGBflux[df_transformed_AGBflux['GridNum10km']== 22821536360562688]"
   ]
  },
  {
   "cell_type": "code",
   "execution_count": 12,
   "id": "ff03e075",
   "metadata": {},
   "outputs": [
    {
     "data": {
      "text/html": [
       "<div>\n",
       "<style scoped>\n",
       "    .dataframe tbody tr th:only-of-type {\n",
       "        vertical-align: middle;\n",
       "    }\n",
       "\n",
       "    .dataframe tbody tr th {\n",
       "        vertical-align: top;\n",
       "    }\n",
       "\n",
       "    .dataframe thead th {\n",
       "        text-align: right;\n",
       "    }\n",
       "</style>\n",
       "<table border=\"1\" class=\"dataframe\">\n",
       "  <thead>\n",
       "    <tr style=\"text-align: right;\">\n",
       "      <th></th>\n",
       "      <th>GridNum10km</th>\n",
       "      <th>AreaHa</th>\n",
       "      <th>year</th>\n",
       "      <th>GDMP</th>\n",
       "      <th>zscore</th>\n",
       "    </tr>\n",
       "  </thead>\n",
       "  <tbody>\n",
       "    <tr>\n",
       "      <th>114716</th>\n",
       "      <td>18446609658413056</td>\n",
       "      <td>10000.0</td>\n",
       "      <td>2014-11-01</td>\n",
       "      <td>567420786.0</td>\n",
       "      <td>-0.7</td>\n",
       "    </tr>\n",
       "    <tr>\n",
       "      <th>417605</th>\n",
       "      <td>18446609658413056</td>\n",
       "      <td>10000.0</td>\n",
       "      <td>2015-11-01</td>\n",
       "      <td>554946035.0</td>\n",
       "      <td>-1.1</td>\n",
       "    </tr>\n",
       "    <tr>\n",
       "      <th>720494</th>\n",
       "      <td>18446609658413056</td>\n",
       "      <td>10000.0</td>\n",
       "      <td>2016-11-01</td>\n",
       "      <td>591739566.0</td>\n",
       "      <td>0.2</td>\n",
       "    </tr>\n",
       "    <tr>\n",
       "      <th>1023383</th>\n",
       "      <td>18446609658413056</td>\n",
       "      <td>10000.0</td>\n",
       "      <td>2017-11-01</td>\n",
       "      <td>556189307.0</td>\n",
       "      <td>-1.1</td>\n",
       "    </tr>\n",
       "    <tr>\n",
       "      <th>1326272</th>\n",
       "      <td>18446609658413056</td>\n",
       "      <td>10000.0</td>\n",
       "      <td>2018-11-01</td>\n",
       "      <td>626023208.0</td>\n",
       "      <td>1.4</td>\n",
       "    </tr>\n",
       "    <tr>\n",
       "      <th>1629161</th>\n",
       "      <td>18446609658413056</td>\n",
       "      <td>10000.0</td>\n",
       "      <td>2019-11-01</td>\n",
       "      <td>597534185.0</td>\n",
       "      <td>0.4</td>\n",
       "    </tr>\n",
       "    <tr>\n",
       "      <th>1932050</th>\n",
       "      <td>18446609658413056</td>\n",
       "      <td>10000.0</td>\n",
       "      <td>2020-11-01</td>\n",
       "      <td>634120631.0</td>\n",
       "      <td>1.6</td>\n",
       "    </tr>\n",
       "    <tr>\n",
       "      <th>2234939</th>\n",
       "      <td>18446609658413056</td>\n",
       "      <td>10000.0</td>\n",
       "      <td>2021-11-01</td>\n",
       "      <td>565236683.0</td>\n",
       "      <td>-0.7</td>\n",
       "    </tr>\n",
       "  </tbody>\n",
       "</table>\n",
       "</div>"
      ],
      "text/plain": [
       "               GridNum10km   AreaHa       year         GDMP  zscore\n",
       "114716   18446609658413056  10000.0 2014-11-01  567420786.0    -0.7\n",
       "417605   18446609658413056  10000.0 2015-11-01  554946035.0    -1.1\n",
       "720494   18446609658413056  10000.0 2016-11-01  591739566.0     0.2\n",
       "1023383  18446609658413056  10000.0 2017-11-01  556189307.0    -1.1\n",
       "1326272  18446609658413056  10000.0 2018-11-01  626023208.0     1.4\n",
       "1629161  18446609658413056  10000.0 2019-11-01  597534185.0     0.4\n",
       "1932050  18446609658413056  10000.0 2020-11-01  634120631.0     1.6\n",
       "2234939  18446609658413056  10000.0 2021-11-01  565236683.0    -0.7"
      ]
     },
     "execution_count": 12,
     "metadata": {},
     "output_type": "execute_result"
    }
   ],
   "source": [
    "df_transformed_AGBflux[df_transformed_AGBflux['GridNum10km']== 18446609658413056]"
   ]
  },
  {
   "cell_type": "code",
   "execution_count": 13,
   "id": "be5aa73a",
   "metadata": {},
   "outputs": [
    {
     "name": "stderr",
     "output_type": "stream",
     "text": [
      "C:\\Program Files\\ArcGIS\\Pro\\bin\\Python\\envs\\arcgispro-py3\\lib\\site-packages\\pandas\\core\\indexing.py:1676: SettingWithCopyWarning: \n",
      "A value is trying to be set on a copy of a slice from a DataFrame.\n",
      "Try using .loc[row_indexer,col_indexer] = value instead\n",
      "\n",
      "See the caveats in the documentation: https://pandas.pydata.org/pandas-docs/stable/user_guide/indexing.html#returning-a-view-versus-a-copy\n",
      "  self._setitem_single_column(ilocs[0], value, pi)\n"
     ]
    },
    {
     "data": {
      "text/html": [
       "<div>\n",
       "<style scoped>\n",
       "    .dataframe tbody tr th:only-of-type {\n",
       "        vertical-align: middle;\n",
       "    }\n",
       "\n",
       "    .dataframe tbody tr th {\n",
       "        vertical-align: top;\n",
       "    }\n",
       "\n",
       "    .dataframe thead th {\n",
       "        text-align: right;\n",
       "    }\n",
       "</style>\n",
       "<table border=\"1\" class=\"dataframe\">\n",
       "  <thead>\n",
       "    <tr style=\"text-align: right;\">\n",
       "      <th></th>\n",
       "      <th>GridNum10km</th>\n",
       "      <th>AreaHa</th>\n",
       "      <th>year</th>\n",
       "      <th>GDMP</th>\n",
       "      <th>zscore</th>\n",
       "    </tr>\n",
       "  </thead>\n",
       "  <tbody>\n",
       "    <tr>\n",
       "      <th>114716</th>\n",
       "      <td>18446609658413056</td>\n",
       "      <td>10000.0</td>\n",
       "      <td>2014-11-01</td>\n",
       "      <td>567420786.0</td>\n",
       "      <td>-0.6</td>\n",
       "    </tr>\n",
       "    <tr>\n",
       "      <th>417605</th>\n",
       "      <td>18446609658413056</td>\n",
       "      <td>10000.0</td>\n",
       "      <td>2015-11-01</td>\n",
       "      <td>554946035.0</td>\n",
       "      <td>-1.0</td>\n",
       "    </tr>\n",
       "    <tr>\n",
       "      <th>720494</th>\n",
       "      <td>18446609658413056</td>\n",
       "      <td>10000.0</td>\n",
       "      <td>2016-11-01</td>\n",
       "      <td>591739566.0</td>\n",
       "      <td>0.2</td>\n",
       "    </tr>\n",
       "    <tr>\n",
       "      <th>1023383</th>\n",
       "      <td>18446609658413056</td>\n",
       "      <td>10000.0</td>\n",
       "      <td>2017-11-01</td>\n",
       "      <td>556189307.0</td>\n",
       "      <td>-1.0</td>\n",
       "    </tr>\n",
       "    <tr>\n",
       "      <th>1326272</th>\n",
       "      <td>18446609658413056</td>\n",
       "      <td>10000.0</td>\n",
       "      <td>2018-11-01</td>\n",
       "      <td>626023208.0</td>\n",
       "      <td>1.3</td>\n",
       "    </tr>\n",
       "    <tr>\n",
       "      <th>1629161</th>\n",
       "      <td>18446609658413056</td>\n",
       "      <td>10000.0</td>\n",
       "      <td>2019-11-01</td>\n",
       "      <td>597534185.0</td>\n",
       "      <td>0.4</td>\n",
       "    </tr>\n",
       "    <tr>\n",
       "      <th>1932050</th>\n",
       "      <td>18446609658413056</td>\n",
       "      <td>10000.0</td>\n",
       "      <td>2020-11-01</td>\n",
       "      <td>634120631.0</td>\n",
       "      <td>1.5</td>\n",
       "    </tr>\n",
       "    <tr>\n",
       "      <th>2234939</th>\n",
       "      <td>18446609658413056</td>\n",
       "      <td>10000.0</td>\n",
       "      <td>2021-11-01</td>\n",
       "      <td>565236683.0</td>\n",
       "      <td>-0.7</td>\n",
       "    </tr>\n",
       "  </tbody>\n",
       "</table>\n",
       "</div>"
      ],
      "text/plain": [
       "               GridNum10km   AreaHa       year         GDMP  zscore\n",
       "114716   18446609658413056  10000.0 2014-11-01  567420786.0    -0.6\n",
       "417605   18446609658413056  10000.0 2015-11-01  554946035.0    -1.0\n",
       "720494   18446609658413056  10000.0 2016-11-01  591739566.0     0.2\n",
       "1023383  18446609658413056  10000.0 2017-11-01  556189307.0    -1.0\n",
       "1326272  18446609658413056  10000.0 2018-11-01  626023208.0     1.3\n",
       "1629161  18446609658413056  10000.0 2019-11-01  597534185.0     0.4\n",
       "1932050  18446609658413056  10000.0 2020-11-01  634120631.0     1.5\n",
       "2234939  18446609658413056  10000.0 2021-11-01  565236683.0    -0.7"
      ]
     },
     "execution_count": 13,
     "metadata": {},
     "output_type": "execute_result"
    }
   ],
   "source": [
    "GDMP_grid1=df_transformed_AGBflux[df_transformed_AGBflux['GridNum10km']== 18446609658413056]\n",
    "avg = GDMP_grid1['GDMP'].mean()\n",
    "std = GDMP_grid1['GDMP'].std()\n",
    "#GDMP_grid2['zscore'] = round(((GDMP_grid2['GDMP']-avg)/std),1)\n",
    "GDMP_grid1.loc[:,'zscore'] = round(((GDMP_grid1['GDMP']-avg)/std),1)\n",
    "GDMP_grid1"
   ]
  },
  {
   "cell_type": "code",
   "execution_count": 14,
   "id": "53da01a9",
   "metadata": {},
   "outputs": [
    {
     "ename": "NameError",
     "evalue": "name 'GDMP_grid' is not defined",
     "output_type": "error",
     "traceback": [
      "\u001b[1;31m---------------------------------------------------------------------------\u001b[0m",
      "\u001b[1;31mNameError\u001b[0m                                 Traceback (most recent call last)",
      "\u001b[1;32m<ipython-input-14-4ab794c69e00>\u001b[0m in \u001b[0;36m<module>\u001b[1;34m\u001b[0m\n\u001b[1;32m----> 1\u001b[1;33m \u001b[0mzsc\u001b[0m\u001b[1;33m=\u001b[0m \u001b[0mstats\u001b[0m\u001b[1;33m.\u001b[0m\u001b[0mzscore\u001b[0m\u001b[1;33m(\u001b[0m\u001b[0mGDMP_grid\u001b[0m\u001b[1;33m[\u001b[0m\u001b[1;34m'GDMP'\u001b[0m\u001b[1;33m]\u001b[0m\u001b[1;33m)\u001b[0m\u001b[1;33m\u001b[0m\u001b[1;33m\u001b[0m\u001b[0m\n\u001b[0m\u001b[0;32m      2\u001b[0m \u001b[0mzsc\u001b[0m\u001b[1;33m\u001b[0m\u001b[1;33m\u001b[0m\u001b[0m\n",
      "\u001b[1;31mNameError\u001b[0m: name 'GDMP_grid' is not defined"
     ]
    }
   ],
   "source": [
    "zsc= stats.zscore(GDMP_grid['GDMP'])\n",
    "zsc"
   ]
  },
  {
   "cell_type": "code",
   "execution_count": null,
   "id": "39f31904",
   "metadata": {},
   "outputs": [],
   "source": [
    "GDMP_grid2=df_transformed_AGBflux[df_transformed_AGBflux['GridNum10km']== 9731949216137216]\n",
    "avg = GDMP_grid2['GDMP'].mean()\n",
    "std = GDMP_grid2['GDMP'].std()\n",
    "#GDMP_grid2['zscore'] = round(((GDMP_grid2['GDMP']-avg)/std),1)\n",
    "GDMP_grid2.loc[:,'zscore'] = round(((GDMP_grid2['GDMP']-avg)/std),1)\n",
    "GDMP_grid2"
   ]
  },
  {
   "cell_type": "code",
   "execution_count": null,
   "id": "a614bf13",
   "metadata": {},
   "outputs": [],
   "source": [
    "GDMP_grid2=df_transformed_AGBflux[df_transformed_AGBflux['GridNum10km']== 9731949216137216]\n",
    "avg = GDMP_grid2['GDMP'].mean()\n",
    "std = GDMP_grid2['GDMP'].std()\n",
    "GDMP_grid2['zscore'] = round(((GDMP_grid2['GDMP']-avg)/std),1)\n",
    "GDMP_grid2"
   ]
  },
  {
   "cell_type": "code",
   "execution_count": null,
   "id": "102860e6",
   "metadata": {},
   "outputs": [],
   "source": [
    "GDMP_grid3=df_transformed_AGBflux[df_transformed_AGBflux['GridNum10km']== 27603260890152960]\n",
    "avg = GDMP_grid3['GDMP'].mean()\n",
    "std = GDMP_grid3['GDMP'].std()\n",
    "GDMP_grid3['zscore'] = round(((GDMP_grid3['GDMP']-avg)/std),1)\n",
    "GDMP_grid3"
   ]
  },
  {
   "cell_type": "code",
   "execution_count": null,
   "id": "3430cfae",
   "metadata": {},
   "outputs": [],
   "source": [
    "avg = GDMP_grid['GDMP'].mean()\n",
    "std = GDMP_grid['GDMP'].std()\n",
    "GDMP_grid['zscore'] = round(((GDMP_grid['GDMP']-avg)/std),1)\n",
    "GDMP_grid"
   ]
  },
  {
   "cell_type": "code",
   "execution_count": null,
   "id": "4d6d2803",
   "metadata": {},
   "outputs": [],
   "source": [
    "from  scipy.stats import zscore"
   ]
  },
  {
   "cell_type": "code",
   "execution_count": null,
   "id": "c05dea25",
   "metadata": {},
   "outputs": [],
   "source": [
    "z = np.around(zscore(GDMP_grid1['GDMP']),1)\n",
    "z"
   ]
  },
  {
   "cell_type": "code",
   "execution_count": null,
   "id": "78587fed",
   "metadata": {},
   "outputs": [],
   "source": [
    "z = np.round_(zscore(GDMP_grid1['GDMP']),1)\n",
    "z"
   ]
  },
  {
   "cell_type": "code",
   "execution_count": null,
   "id": "4c81a6dc",
   "metadata": {},
   "outputs": [],
   "source": [
    "GDMP_grid=df_transformed_AGBflux[(df_transformed_AGBflux['GridNum10km']== 18446609658413056) | (df_transformed_AGBflux['GridNum10km']== 9731949216137216) | (df_transformed_AGBflux['GridNum10km']== 27603260890152960)]\n",
    "GDMP_grid"
   ]
  },
  {
   "cell_type": "code",
   "execution_count": null,
   "id": "0905a96f",
   "metadata": {},
   "outputs": [],
   "source": [
    "def z_score(x):\n",
    "   z = np.around(zscore(x),1)\n",
    "   return z\n",
    "\n",
    "#df['Z_SCORE'] = df.groupby('GROUP')['VALUE'].transform(z_score)\n",
    "GDMP_grid['zscore'] = GDMP_grid.groupby('GridNum10km')['GDMP'].transform(z_score)\n",
    "\n",
    "print (GDMP_grid)"
   ]
  },
  {
   "cell_type": "code",
   "execution_count": null,
   "id": "6e274990",
   "metadata": {},
   "outputs": [],
   "source": [
    "# create a list of our conditions\n",
    "conditions = [\n",
    "    (GDMP_grid['zscore'] <= -1),\n",
    "    (GDMP_grid['zscore'] > -1) & (GDMP_grid['zscore'] <= 1),\n",
    "    (GDMP_grid['zscore'] > 1)\n",
    "    ]\n",
    "     \n",
    "# create a list of the values we want to assign for each condition\n",
    "values = ['-1', '0', '+1']\n",
    "\n",
    "# create a new column and use np.select to assign values to it using our lists as arguments\n",
    "GDMP_grid['ANOMALIES'] = np.select(conditions, values)\n",
    "\n",
    "# display updated DataFrame\n",
    "GDMP_grid.head()"
   ]
  },
  {
   "cell_type": "code",
   "execution_count": null,
   "id": "6c694235",
   "metadata": {},
   "outputs": [],
   "source": [
    "GDMP_grid"
   ]
  },
  {
   "cell_type": "code",
   "execution_count": null,
   "id": "96934234",
   "metadata": {},
   "outputs": [],
   "source": []
  }
 ],
 "metadata": {
  "kernelspec": {
   "display_name": "Python 3",
   "language": "python",
   "name": "python3"
  },
  "language_info": {
   "codemirror_mode": {
    "name": "ipython",
    "version": 3
   },
   "file_extension": ".py",
   "mimetype": "text/x-python",
   "name": "python",
   "nbconvert_exporter": "python",
   "pygments_lexer": "ipython3",
   "version": "3.7.11"
  }
 },
 "nbformat": 4,
 "nbformat_minor": 5
}
