{
 "cells": [
  {
   "cell_type": "code",
   "execution_count": null,
   "id": "1c1735cd",
   "metadata": {},
   "outputs": [],
   "source": [
    "## tester"
   ]
  },
  {
   "cell_type": "code",
   "execution_count": 3,
   "id": "fa807be1",
   "metadata": {},
   "outputs": [
    {
     "name": "stdout",
     "output_type": "stream",
     "text": [
      "START.............................................................\n",
      "START time at greenwich: 2023-03-31 14:18:03.278530\n",
      "START.............................................................\n",
      "END.............................................................\n",
      "START time at greenwich: 2023-03-31 14:18:03.279029\n",
      "--- 0.0009801387786865234 seconds ---\n",
      "Time Taken: HH:MM:SS  00:00:00\n",
      "END.............................................................\n"
     ]
    }
   ],
   "source": [
    "import time\n",
    "import datetime\n",
    "print (\"START.............................................................\")\n",
    "start_time = time.time()\n",
    "current_start_time = datetime.datetime.now()\n",
    "print (\"START time at greenwich:\", current_start_time)\n",
    "print (\"START.............................................................\")\n",
    "\n",
    "\n",
    "\n",
    "print (\"END.............................................................\")\n",
    "current_end_time = datetime.datetime.now()\n",
    "print (\"START time at greenwich:\", current_end_time)\n",
    "\n",
    "\n",
    "print(\"--- %s seconds ---\" % (time.time() - start_time))\n",
    "seconds = time.time() - start_time\n",
    "print('Time Taken: HH:MM:SS ', time.strftime(\"%H:%M:%S\",time.gmtime(seconds)))\n",
    "print (\"END.............................................................\")"
   ]
  },
  {
   "cell_type": "code",
   "execution_count": 6,
   "id": "7482a8c2",
   "metadata": {},
   "outputs": [
    {
     "name": "stdout",
     "output_type": "stream",
     "text": [
      "----------------------------------------------------------------\n",
      "connect to engine ONAGER\n",
      "connection to ONAGER found\n",
      "following databases can be READ:\n",
      "         Admin  Env  CLC18   CLC0018  CLC00  year  AreaHa  sma gs avg  \\\n",
      "0           30  MDN  242.0  242242.0  242.0  2000    10.0    0.351683   \n",
      "1           30  MDN  333.0  333333.0  333.0  2000   108.0    0.161054   \n",
      "2           30  MDN  123.0  523123.0  523.0  2000     8.0         NaN   \n",
      "3           30  MDS  242.0  242242.0  242.0  2000    31.0    0.090985   \n",
      "4           30  MDS  323.0  321323.0  321.0  2000     2.0    0.168371   \n",
      "...        ...  ...    ...       ...    ...   ...     ...         ...   \n",
      "2727401   1344  ATC  131.0  131131.0  131.0  2011    65.0   -0.785467   \n",
      "2727402   1344  ATC  142.0  142142.0  142.0  2011    81.0   -0.655459   \n",
      "2727403   1344  ATC  211.0  211211.0  211.0  2011   899.0   -0.742855   \n",
      "2727404   1344  ATC  121.0  231121.0  231.0  2011    26.0   -0.601525   \n",
      "2727405   1344  ATC  321.0  321321.0  321.0  2011   484.0   -0.510033   \n",
      "\n",
      "         SMA-1 LINT-1  SMA-1 LINT0  SMA-1 LINT-05  SMA-1 LINT-05 Area  \\\n",
      "0                 NaN          NaN            NaN                0.00   \n",
      "1                 NaN          NaN            NaN                0.00   \n",
      "2                 NaN          NaN            NaN                0.00   \n",
      "3                 NaN          NaN            NaN                0.00   \n",
      "4                 NaN          NaN            NaN                0.00   \n",
      "...               ...          ...            ...                 ...   \n",
      "2727401           NaN          NaN            NaN                0.00   \n",
      "2727402           NaN          NaN            NaN                0.00   \n",
      "2727403     -0.026209    -0.031606      -0.026209                0.21   \n",
      "2727404           NaN          NaN            NaN                0.00   \n",
      "2727405           NaN          NaN            NaN                0.00   \n",
      "\n",
      "         LINT anom     SMA-1  SMA -1 LINT-1 Area  SMA-1 LINT0 Area  SMA-1 Area  \n",
      "0        -0.326415       NaN                0.00              0.00         0.0  \n",
      "1        -0.683494       NaN                0.00              0.00         0.0  \n",
      "2              NaN       NaN                0.00              0.00         0.0  \n",
      "3        -0.433729       NaN                0.00              0.00         0.0  \n",
      "4        -0.864760       NaN                0.00              0.00         0.0  \n",
      "...            ...       ...                 ...               ...         ...  \n",
      "2727401   0.191358       NaN                0.00              0.00         0.0  \n",
      "2727402   0.219694       NaN                0.00              0.00         0.0  \n",
      "2727403   0.585034 -0.187777                0.21              0.45         1.3  \n",
      "2727404   0.185067       NaN                0.00              0.00         0.0  \n",
      "2727405   0.689760       NaN                0.00              0.00         0.0  \n",
      "\n",
      "[2727406 rows x 17 columns]\n",
      "----------------------------------------------------------------\n",
      "end....\n",
      "--- 64.40748500823975 seconds ---\n",
      "Time Taken: HH:MM:SS  00:01:04\n"
     ]
    }
   ],
   "source": [
    "# Reading libaries and start a test-connection to different MS-SQL Server:\n",
    "import pyodbc \n",
    "import numpy as np\n",
    "import pandas as pd\n",
    "import matplotlib.pyplot as plt\n",
    "import sqlalchemy as sa\n",
    "from sqlalchemy import create_engine, event\n",
    "from sqlalchemy.engine.url import URL\n",
    "import json\n",
    "#check processing time:##\n",
    "import time  \n",
    "start_time = time.time()\n",
    "##########################\n",
    "\n",
    "##-----INTO  [ETC_ULS_Sandbox].[cubes].[C_DroughtImpact2022_assessment_version_v2]\n",
    "print (\"----------------------------------------------------------------\")\n",
    "print (\"connect to engine ONAGER\")\n",
    "engine_ONAGER = sa.create_engine('mssql+pyodbc://' + \"ONAGER\" + '/' + \"ETC_ULS_Sandbox\" + '?trusted_connection=yes&driver=ODBC+Driver+13+for+SQL+Server')\n",
    "connection = engine_ONAGER.raw_connection()\n",
    "cursor = connection.cursor()\n",
    "print (\"connection to ONAGER found\")\n",
    "query_drought1=('''SELECT * from [ETC_ULS_Sandbox].[cubes].[C_DroughtImpact2022_assessment_version_v2]''')  \n",
    "df_drought1 = pd.read_sql(query_drought1, engine_ONAGER)\n",
    "\n",
    "print (\"following databases can be READ:\")\n",
    "print (df_drought1)\n",
    "print (\"----------------------------------------------------------------\")\n",
    "\n",
    "\n",
    "\n",
    "\n",
    "print (\"end....\")\n",
    "print(\"--- %s seconds ---\" % (time.time() - start_time))\n",
    "seconds = time.time() - start_time\n",
    "print('Time Taken: HH:MM:SS ', time.strftime(\"%H:%M:%S\",time.gmtime(seconds)))"
   ]
  },
  {
   "cell_type": "code",
   "execution_count": null,
   "id": "7475c88d",
   "metadata": {},
   "outputs": [],
   "source": []
  },
  {
   "cell_type": "code",
   "execution_count": null,
   "id": "0c36f7cd",
   "metadata": {},
   "outputs": [],
   "source": []
  },
  {
   "cell_type": "code",
   "execution_count": null,
   "id": "4fd3bd1d",
   "metadata": {},
   "outputs": [],
   "source": []
  },
  {
   "cell_type": "code",
   "execution_count": null,
   "id": "27712874",
   "metadata": {},
   "outputs": [],
   "source": []
  }
 ],
 "metadata": {
  "kernelspec": {
   "display_name": "Python 3",
   "language": "python",
   "name": "python3"
  },
  "language_info": {
   "codemirror_mode": {
    "name": "ipython",
    "version": 3
   },
   "file_extension": ".py",
   "mimetype": "text/x-python",
   "name": "python",
   "nbconvert_exporter": "python",
   "pygments_lexer": "ipython3",
   "version": "3.7.11"
  }
 },
 "nbformat": 4,
 "nbformat_minor": 5
}
