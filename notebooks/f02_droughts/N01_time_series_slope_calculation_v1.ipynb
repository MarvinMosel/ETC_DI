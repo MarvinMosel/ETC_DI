{
 "cells": [
  {
   "cell_type": "markdown",
   "id": "db2be5ab",
   "metadata": {},
   "source": [
    "# Time series analysis  (trend, slope, ... calculation) for JEDI-CUBES"
   ]
  },
  {
   "cell_type": "markdown",
   "id": "789f31b7",
   "metadata": {},
   "source": [
    "This notebook was set up to help with the analysis of time series in jedi cubes. It can be connected directly to JEDI cubes and examine a time series contained there for various reference units (NUTS3,2,1,0, 1km, 10km, ....).\n",
    "If you have any questions, please contact: loehnertz@space4environment.com\n",
    "\n",
    "---------------------------------------------------------------------------------------------------------------------------------------\n"
   ]
  },
  {
   "cell_type": "markdown",
   "id": "e605ba1d",
   "metadata": {},
   "source": [
    "## (1) connection to jedi cube tables on MS-SQL (TEAL, ONAGER, GREENMONKEY, OSPREY...)\n",
    "    !Please note: you need read and partially write permissions for the database to be used.!\n",
    "        \n",
    "<img src=\"./images/ms_sql_server_image.png\" style=\"height: 600px;\"/>"
   ]
  },
  {
   "cell_type": "code",
   "execution_count": null,
   "id": "7fea24a2",
   "metadata": {},
   "outputs": [],
   "source": [
    "## Reading libaries and start a test-connection to different MS-SQL Server:\n",
    "import pyodbc \n",
    "import numpy as np\n",
    "import pandas as pd\n",
    "import matplotlib.pyplot as plt\n",
    "import sqlalchemy as sa\n",
    "from sqlalchemy import create_engine, event\n",
    "from sqlalchemy.engine.url import URL\n",
    "\n",
    "        \n",
    "#### TEAL\n",
    "print (\"connect to engine......\")\n",
    "engine = sa.create_engine('mssql+pyodbc://' + \"GREENMONKEY\" + '/' + \"Carbon_Mapping\" + '?trusted_connection=yes&driver=ODBC+Driver+13+for+SQL+Server')\n",
    "\n",
    "print (\"connection to greenmonkey found\")\n",
    "print (\"Reading LUCAS topsoil 2018 data from greenmonkey and calc. number of points, min, avg and max OC2018 for every NUTS2 region in Austria:\")\n",
    "query=('''\n",
    "\n",
    "SELECT  [LEVEL2_COD_v2021]\n",
    "\t\t,[LULUCF_CODE]\n",
    "\t\t,[LULUCF_DESCRIPTION]  \n",
    "\t\t,count([POINTID]) as count_points\n",
    "\t\t,min([OC]) as min_OC\n",
    "\t\t,max([OC]) as max_OC\n",
    "\t\t,avg([OC]) as min_OC\n",
    "  FROM [Carbon_Mapping].[lucas].[lucas_topsoil_2018_v2021]\n",
    "  join [LUT].[LUCAS_landcover_into_LULUCF_classification] on [LUCAS_landcover_into_LULUCF_classification].[LUCAS Level2] = [lucas_topsoil_2018_v2021].LC\n",
    "  where left(LEVEL2_COD_v2021,2)='AT'\n",
    "  group by \n",
    "  [LEVEL2_COD_v2021], [LULUCF_CODE] ,[LULUCF_DESCRIPTION] order by [LEVEL2_COD_v2021], [LULUCF_DESCRIPTION]\n",
    "''')  \n",
    "df_oc2018_nuts2_stat_AT = pd.read_sql(query, engine)\n",
    "print(df_oc2018_nuts2_stat_AT.head(26))\n",
    "#pivot \n",
    "\n",
    "print (\"end....\")"
   ]
  },
  {
   "cell_type": "code",
   "execution_count": null,
   "id": "80148b55",
   "metadata": {},
   "outputs": [],
   "source": []
  },
  {
   "cell_type": "markdown",
   "id": "265e8e46",
   "metadata": {},
   "source": [
    "-------------------------------"
   ]
  },
  {
   "cell_type": "code",
   "execution_count": null,
   "id": "df0a6b25",
   "metadata": {},
   "outputs": [],
   "source": []
  }
 ],
 "metadata": {
  "kernelspec": {
   "display_name": "Python 3",
   "language": "python",
   "name": "python3"
  },
  "language_info": {
   "codemirror_mode": {
    "name": "ipython",
    "version": 3
   },
   "file_extension": ".py",
   "mimetype": "text/x-python",
   "name": "python",
   "nbconvert_exporter": "python",
   "pygments_lexer": "ipython3",
   "version": "3.7.11"
  }
 },
 "nbformat": 4,
 "nbformat_minor": 5
}
